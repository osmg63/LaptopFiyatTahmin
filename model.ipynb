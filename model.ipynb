{
 "cells": [
  {
   "cell_type": "code",
   "execution_count": 8,
   "id": "5364f3a7-6934-413d-a67e-70cd40d2753e",
   "metadata": {
    "tags": []
   },
   "outputs": [],
   "source": [
    "import pandas as pd\n",
    "import numpy as np"
   ]
  },
  {
   "cell_type": "code",
   "execution_count": 9,
   "id": "c6764a89-5981-42b3-abb2-fbef9b3772bb",
   "metadata": {
    "tags": []
   },
   "outputs": [],
   "source": [
    "df=pd.read_csv('islenmis.csv')"
   ]
  },
  {
   "cell_type": "code",
   "execution_count": 10,
   "id": "e326ae56-fe03-4e1e-a1f1-69cbf72e6156",
   "metadata": {
    "tags": []
   },
   "outputs": [],
   "source": [
    "from sklearn.model_selection import train_test_split\n",
    "X = df.drop(['price'], axis=1)\n",
    "y = df['price']"
   ]
  },
  {
   "cell_type": "code",
   "execution_count": 11,
   "id": "b1d4204f-b1e4-4e41-b6a7-5c80e88628e6",
   "metadata": {
    "tags": []
   },
   "outputs": [],
   "source": [
    "x_train, x_test, y_train, y_test = train_test_split(X, y, test_size=0.2, random_state=0 )\n"
   ]
  },
  {
   "cell_type": "code",
   "execution_count": 12,
   "id": "7dbbf777-053f-4710-b809-1eb40c7cae85",
   "metadata": {
    "tags": []
   },
   "outputs": [],
   "source": [
    "from sklearn.ensemble import GradientBoostingRegressor\n",
    "from sklearn.metrics import mean_absolute_error, mean_squared_error, r2_score\n",
    "\n",
    "best_params = {'learning_rate': 0.2, 'max_depth': 3, 'n_estimators': 200}\n",
    "gb_regressor = GradientBoostingRegressor(**best_params)\n",
    "\n",
    "gb_regressor.fit(x_train, y_train)\n",
    "y_predict_best =gb_regressor.predict(x_test)"
   ]
  },
  {
   "cell_type": "code",
   "execution_count": 13,
   "id": "3ab1b88e-b8e8-45c9-9c87-8a3e52c02c72",
   "metadata": {
    "tags": []
   },
   "outputs": [],
   "source": [
    "import joblib"
   ]
  },
  {
   "cell_type": "code",
   "execution_count": 14,
   "id": "e92bed89-ef11-4054-87d2-6ecb49b23383",
   "metadata": {
    "tags": []
   },
   "outputs": [
    {
     "data": {
      "text/plain": [
       "['model.sav']"
      ]
     },
     "execution_count": 14,
     "metadata": {},
     "output_type": "execute_result"
    }
   ],
   "source": [
    "joblib.dump(gb_regressor,\"model.sav\")"
   ]
  },
  {
   "cell_type": "code",
   "execution_count": null,
   "id": "973f5677-ae56-48a7-a886-82e564021922",
   "metadata": {},
   "outputs": [],
   "source": []
  }
 ],
 "metadata": {
  "kernelspec": {
   "display_name": "Python 3 (ipykernel)",
   "language": "python",
   "name": "python3"
  },
  "language_info": {
   "codemirror_mode": {
    "name": "ipython",
    "version": 3
   },
   "file_extension": ".py",
   "mimetype": "text/x-python",
   "name": "python",
   "nbconvert_exporter": "python",
   "pygments_lexer": "ipython3",
   "version": "3.11.5"
  }
 },
 "nbformat": 4,
 "nbformat_minor": 5
}
